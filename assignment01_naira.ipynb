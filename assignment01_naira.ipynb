{
  "nbformat": 4,
  "nbformat_minor": 0,
  "metadata": {
    "colab": {
      "provenance": [],
      "authorship_tag": "ABX9TyOAAVUiqAomT9f2l2yU0VEl",
      "include_colab_link": true
    },
    "kernelspec": {
      "name": "python3",
      "display_name": "Python 3"
    },
    "language_info": {
      "name": "python"
    }
  },
  "cells": [
    {
      "cell_type": "markdown",
      "metadata": {
        "id": "view-in-github",
        "colab_type": "text"
      },
      "source": [
        "<a href=\"https://colab.research.google.com/github/nairarafeek/ict_assignments/blob/main/assignment01_naira.ipynb\" target=\"_parent\"><img src=\"https://colab.research.google.com/assets/colab-badge.svg\" alt=\"Open In Colab\"/></a>"
      ]
    },
    {
      "cell_type": "markdown",
      "source": [
        "1"
      ],
      "metadata": {
        "id": "Mrk5uIg0RCEb"
      }
    },
    {
      "cell_type": "code",
      "execution_count": null,
      "metadata": {
        "colab": {
          "base_uri": "https://localhost:8080/"
        },
        "id": "PdWtQTCRVTL3",
        "outputId": "c05679f6-ac76-4198-8012-2d8a58ad7f30"
      },
      "outputs": [
        {
          "output_type": "stream",
          "name": "stdout",
          "text": [
            "price1    : 45\n",
            "quantity1 : 3\n",
            "price2    : 30\n",
            "quantity2 : 2\n",
            "Total bill: 195 \n"
          ]
        }
      ],
      "source": [
        "item1=int(input('price1    : '))\n",
        "item2=int(input('quantity1 : '))\n",
        "item3=int(input('price2    : '))\n",
        "item4=int(input('quantity2 : '))\n",
        "t=item1*item2+item3*item4\n",
        "print(f\"Total bill: {t} \")"
      ]
    },
    {
      "cell_type": "markdown",
      "source": [
        "2"
      ],
      "metadata": {
        "id": "B6y-84tLRD_a"
      }
    },
    {
      "cell_type": "code",
      "source": [
        "print('temperature conversion')\n",
        "cel=float(input('Enter temperature in celsius : '))\n",
        "f=(cel*9/5)+32\n",
        "print(f)\n",
        "print('Enter temperature in fahrenheit',f)"
      ],
      "metadata": {
        "colab": {
          "base_uri": "https://localhost:8080/"
        },
        "id": "-031KdpuX8ce",
        "outputId": "38a4f8e1-c522-4016-c351-5e6619935c72"
      },
      "execution_count": null,
      "outputs": [
        {
          "output_type": "stream",
          "name": "stdout",
          "text": [
            "temperature conversion\n",
            "Enter temperature in celsius : 30\n",
            "86.0\n",
            "Enter temperature in fahrenheit 86.0\n"
          ]
        }
      ]
    },
    {
      "cell_type": "markdown",
      "source": [
        "3"
      ],
      "metadata": {
        "id": "1KxCOV4fRF2a"
      }
    },
    {
      "cell_type": "code",
      "source": [
        "salary=int(input(\" enter salary : \"))\n",
        "salary_hra=salary*20/100\n",
        "salary_da=salary*10/100\n",
        "net_salary=salary+salary_hra+salary_da\n",
        "print(f\"Net Salary: {net_salary}\")"
      ],
      "metadata": {
        "colab": {
          "base_uri": "https://localhost:8080/"
        },
        "id": "Rlqf-N2Zcs9X",
        "outputId": "6fa982ef-90c7-4f8e-b9c2-97c9291ee771"
      },
      "execution_count": null,
      "outputs": [
        {
          "output_type": "stream",
          "name": "stdout",
          "text": [
            " enter salary : 20000\n",
            "Net Salary: 26000.0\n"
          ]
        }
      ]
    },
    {
      "cell_type": "markdown",
      "source": [
        "4"
      ],
      "metadata": {
        "id": "XM9g80iaRHQS"
      }
    },
    {
      "cell_type": "code",
      "source": [
        "P = float(input(\"Principal: \"))\n",
        "R = float(input(\"Rate of Interest: \"))\n",
        "T = float(input(\"Time (in years): \"))\n",
        "S = (P*R*T) / 100\n",
        "print(\"Simple Interest =\", S)"
      ],
      "metadata": {
        "colab": {
          "base_uri": "https://localhost:8080/"
        },
        "id": "cccUbtsmzqBo",
        "outputId": "3ad961ac-e87a-4c30-e709-c7e7ae9f2049"
      },
      "execution_count": null,
      "outputs": [
        {
          "output_type": "stream",
          "name": "stdout",
          "text": [
            "Principal: 10000\n",
            "Rate of Interest: 5\n",
            "Time (in years): 2\n",
            "Simple Interest = 1000.0\n"
          ]
        }
      ]
    },
    {
      "cell_type": "markdown",
      "source": [
        "5"
      ],
      "metadata": {
        "id": "FTyEM9HiRIsy"
      }
    },
    {
      "cell_type": "code",
      "source": [
        "total_minutes = int(input(\"Enter total minutes: \"))\n",
        "hours = total_minutes // 60\n",
        "minutes = total_minutes % 60\n",
        "print(f\"{hours} hours and {minutes} minutes\")"
      ],
      "metadata": {
        "colab": {
          "base_uri": "https://localhost:8080/"
        },
        "id": "h0d1f0yt2_vN",
        "outputId": "f5c9b5a3-d8e3-489f-bab2-eb3e86db47eb"
      },
      "execution_count": null,
      "outputs": [
        {
          "output_type": "stream",
          "name": "stdout",
          "text": [
            "Enter total minutes: 130\n",
            "2 hours and 10 minutes\n"
          ]
        }
      ]
    },
    {
      "cell_type": "markdown",
      "source": [
        "6"
      ],
      "metadata": {
        "id": "TVfQTlAwRKPC"
      }
    },
    {
      "cell_type": "code",
      "source": [
        "weight = float(input(\"Weight (in kg): \"))\n",
        "height = float(input(\"Height (in meters): \"))\n",
        "bmi = weight/(height * height)\n",
        "print(f\"BMI = {bmi: .2f}\")"
      ],
      "metadata": {
        "colab": {
          "base_uri": "https://localhost:8080/"
        },
        "id": "ryjpsPmI3qDE",
        "outputId": "9c579abe-3122-40b0-af08-326bec347105"
      },
      "execution_count": null,
      "outputs": [
        {
          "output_type": "stream",
          "name": "stdout",
          "text": [
            "Weight (in kg): 60\n",
            "Height (in meters): 1.65\n",
            "BMI =  22.04\n"
          ]
        }
      ]
    },
    {
      "cell_type": "markdown",
      "source": [
        "7"
      ],
      "metadata": {
        "id": "CAR4WFtLRLjh"
      }
    },
    {
      "cell_type": "code",
      "source": [
        "original_price = int(input(\"Original price: \"))\n",
        "discount = original_price*0.10\n",
        "discounted_price = original_price-discount\n",
        "print(f\"Discounted Price: {discounted_price}\")"
      ],
      "metadata": {
        "colab": {
          "base_uri": "https://localhost:8080/"
        },
        "id": "YM_E5X9z4Ksk",
        "outputId": "0c3d2587-ee60-4caa-deef-b3edd91e7dfe"
      },
      "execution_count": null,
      "outputs": [
        {
          "output_type": "stream",
          "name": "stdout",
          "text": [
            "Original price: 1200\n",
            "Discounted Price: 1080.0\n"
          ]
        }
      ]
    },
    {
      "cell_type": "markdown",
      "source": [
        "8"
      ],
      "metadata": {
        "id": "LYXZOwHkRNVa"
      }
    },
    {
      "cell_type": "code",
      "source": [
        "a = float(input(\"Enter side a : \"))\n",
        "b = float(input(\"Enter side b : \"))\n",
        "c = float(input(\"Enter side c : \"))\n",
        "s = (a + b + c) / 2\n",
        "area = (s*(s-a)*(s-b)*(s-c))**(0.5)\n",
        "print(f\"Area of the triangle: {area:.2f}\")"
      ],
      "metadata": {
        "colab": {
          "base_uri": "https://localhost:8080/"
        },
        "id": "3KRKVnmG4y1b",
        "outputId": "dc585aa3-5b37-4052-aa6a-a2a455681526"
      },
      "execution_count": null,
      "outputs": [
        {
          "output_type": "stream",
          "name": "stdout",
          "text": [
            "Enter side a : 5\n",
            "Enter side b : 6\n",
            "Enter side c : 7\n",
            "Area of the triangle: 14.70\n"
          ]
        }
      ]
    },
    {
      "cell_type": "markdown",
      "source": [
        "9"
      ],
      "metadata": {
        "id": "nQyc1-mHRO6y"
      }
    },
    {
      "cell_type": "code",
      "source": [
        "ost      : ₹{total_cost:.1f}\")length = float(input(\"Enter wall length (in meters) : \"))\n",
        "height = float(input(\"Enter wall height (in meters) : \"))\n",
        "wall_area = length*height\n",
        "window_area = 2*(1.5*1.2)\n",
        "paintable_area = wall_area-window_area\n",
        "cost_per_sq_m = 25\n",
        "total_cost = paintable_area*cost_per_sq_m\n",
        "print(f\"Total area to be painted : {paintable_area:.1f} sq.m\")\n",
        "print(f\"Total painting c"
      ],
      "metadata": {
        "colab": {
          "base_uri": "https://localhost:8080/"
        },
        "id": "5--rP2-05caK",
        "outputId": "16f8c01d-26ce-46fe-a3f7-4bbe95387563"
      },
      "execution_count": null,
      "outputs": [
        {
          "output_type": "stream",
          "name": "stdout",
          "text": [
            "Enter wall length (in meters): 12\n",
            "Enter wall height (in meters): 8\n",
            "Total area to be painted: 92.4 sq.m\n",
            "Total painting cost: ₹2310.0\n"
          ]
        }
      ]
    },
    {
      "cell_type": "markdown",
      "source": [
        "10"
      ],
      "metadata": {
        "id": "QhGq00AIRQF5"
      }
    },
    {
      "cell_type": "code",
      "source": [
        "units = float(input(\"Enter number of units consumed: \"))\n",
        "rate_per_unit = 5.2\n",
        "fixed_charge = 100\n",
        "bill = (units*rate_per_unit)+fixed_charge\n",
        "print(f\"Electricity Bill: ₹{bill:.1f}\")"
      ],
      "metadata": {
        "colab": {
          "base_uri": "https://localhost:8080/"
        },
        "id": "_TlWgdDd7Onp",
        "outputId": "3982575f-15c4-4320-df82-4513c25ffe85"
      },
      "execution_count": null,
      "outputs": [
        {
          "output_type": "stream",
          "name": "stdout",
          "text": [
            "Enter number of units consumed: 250\n",
            "Electricity Bill: ₹1400.0\n"
          ]
        }
      ]
    },
    {
      "cell_type": "code",
      "source": [],
      "metadata": {
        "id": "YMZ11o4d78uw"
      },
      "execution_count": null,
      "outputs": []
    }
  ]
}